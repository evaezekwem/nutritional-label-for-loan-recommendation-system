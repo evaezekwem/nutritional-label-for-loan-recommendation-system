{
 "cells": [
  {
   "cell_type": "code",
   "execution_count": 1,
   "metadata": {},
   "outputs": [
    {
     "data": {
      "text/html": [
       "<ol class=list-inline>\n",
       "\t<li>'X'</li>\n",
       "\t<li>'SeriousDlqin2yrs'</li>\n",
       "\t<li>'RevolvingUtilizationOfUnsecuredLines'</li>\n",
       "\t<li>'age'</li>\n",
       "\t<li>'NumberOfTime30.59DaysPastDueNotWorse'</li>\n",
       "\t<li>'DebtRatio'</li>\n",
       "\t<li>'MonthlyIncome'</li>\n",
       "\t<li>'NumberOfOpenCreditLinesAndLoans'</li>\n",
       "\t<li>'NumberOfTimes90DaysLate'</li>\n",
       "\t<li>'NumberRealEstateLoansOrLines'</li>\n",
       "\t<li>'NumberOfTime60.89DaysPastDueNotWorse'</li>\n",
       "\t<li>'NumberOfDependents'</li>\n",
       "</ol>\n"
      ],
      "text/latex": [
       "\\begin{enumerate*}\n",
       "\\item 'X'\n",
       "\\item 'SeriousDlqin2yrs'\n",
       "\\item 'RevolvingUtilizationOfUnsecuredLines'\n",
       "\\item 'age'\n",
       "\\item 'NumberOfTime30.59DaysPastDueNotWorse'\n",
       "\\item 'DebtRatio'\n",
       "\\item 'MonthlyIncome'\n",
       "\\item 'NumberOfOpenCreditLinesAndLoans'\n",
       "\\item 'NumberOfTimes90DaysLate'\n",
       "\\item 'NumberRealEstateLoansOrLines'\n",
       "\\item 'NumberOfTime60.89DaysPastDueNotWorse'\n",
       "\\item 'NumberOfDependents'\n",
       "\\end{enumerate*}\n"
      ],
      "text/markdown": [
       "1. 'X'\n",
       "2. 'SeriousDlqin2yrs'\n",
       "3. 'RevolvingUtilizationOfUnsecuredLines'\n",
       "4. 'age'\n",
       "5. 'NumberOfTime30.59DaysPastDueNotWorse'\n",
       "6. 'DebtRatio'\n",
       "7. 'MonthlyIncome'\n",
       "8. 'NumberOfOpenCreditLinesAndLoans'\n",
       "9. 'NumberOfTimes90DaysLate'\n",
       "10. 'NumberRealEstateLoansOrLines'\n",
       "11. 'NumberOfTime60.89DaysPastDueNotWorse'\n",
       "12. 'NumberOfDependents'\n",
       "\n",
       "\n"
      ],
      "text/plain": [
       " [1] \"X\"                                   \n",
       " [2] \"SeriousDlqin2yrs\"                    \n",
       " [3] \"RevolvingUtilizationOfUnsecuredLines\"\n",
       " [4] \"age\"                                 \n",
       " [5] \"NumberOfTime30.59DaysPastDueNotWorse\"\n",
       " [6] \"DebtRatio\"                           \n",
       " [7] \"MonthlyIncome\"                       \n",
       " [8] \"NumberOfOpenCreditLinesAndLoans\"     \n",
       " [9] \"NumberOfTimes90DaysLate\"             \n",
       "[10] \"NumberRealEstateLoansOrLines\"        \n",
       "[11] \"NumberOfTime60.89DaysPastDueNotWorse\"\n",
       "[12] \"NumberOfDependents\"                  "
      ]
     },
     "metadata": {},
     "output_type": "display_data"
    }
   ],
   "source": [
    "\n",
    "#set working directory\n",
    "setwd(\"C:\\\\Users\\\\Eva\\\\Google Drive\\\\Admissions\\\\NYU\\\\Admitted\\\\Courses\\\\DSGA 3001_9 Responsible DS\\\\Project\\\\nutritional-label-for-loan-recommendation-system\\\\data\\\\raw\")\n",
    "\n",
    "data <- read.csv(\"cs-training.csv\", header=T)\n",
    "colnames (data)\n"
   ]
  },
  {
   "cell_type": "code",
   "execution_count": 2,
   "metadata": {},
   "outputs": [],
   "source": [
    "##############\n",
    "# create validation \n",
    "##############\n",
    "#\n",
    "train <- sample(nrow(data), floor(nrow(data) * 0.66)) \n",
    "training <- data[train, ] \n",
    "validation <- data[-train, ] \n",
    "remove (train)   # remove data to free up space "
   ]
  },
  {
   "cell_type": "code",
   "execution_count": 3,
   "metadata": {},
   "outputs": [],
   "source": [
    "# install.packages(\"DMwR\")"
   ]
  },
  {
   "cell_type": "code",
   "execution_count": 4,
   "metadata": {},
   "outputs": [
    {
     "name": "stderr",
     "output_type": "stream",
     "text": [
      "Loading required package: DMwR\n",
      "Warning message:\n",
      "\"package 'DMwR' was built under R version 3.6.3\"Loading required package: lattice\n",
      "Warning message:\n",
      "\"package 'lattice' was built under R version 3.6.3\"Loading required package: grid\n",
      "Registered S3 method overwritten by 'quantmod':\n",
      "  method            from\n",
      "  as.zoo.data.frame zoo \n"
     ]
    },
    {
     "ename": "ERROR",
     "evalue": "Error in `$<-.data.frame`(`*tmp*`, ydata, value = structure(integer(0), .Label = character(0), class = \"factor\")): replacement has 0 rows, data has 150000\n",
     "output_type": "error",
     "traceback": [
      "Error in `$<-.data.frame`(`*tmp*`, ydata, value = structure(integer(0), .Label = character(0), class = \"factor\")): replacement has 0 rows, data has 150000\nTraceback:\n",
      "1. `$<-`(`*tmp*`, ydata, value = structure(integer(0), .Label = character(0), class = \"factor\"))",
      "2. `$<-.data.frame`(`*tmp*`, ydata, value = structure(integer(0), .Label = character(0), class = \"factor\"))",
      "3. stop(sprintf(ngettext(N, \"replacement has %d row, data has %d\", \n .     \"replacement has %d rows, data has %d\"), N, nrows), domain = NA)"
     ]
    }
   ],
   "source": [
    "#######################\n",
    "# SMOTE\n",
    "#######################\n",
    "# Literature: http://cran.r-project.org/web/packages/DMwR/DMwR.pdf\n",
    "\n",
    "require(DMwR)\n",
    "# must set ydata as factor and has to be placed at the end!!!!!!!!\n",
    "data$ydata <- as.factor(data$ydata)\n",
    "data <- SMOTE(ydata ~ ., data\n",
    "                ,k = 5\n",
    "                ,perc.over = 700,perc.under=200)\n",
    "table(data$ydata)"
   ]
  },
  {
   "cell_type": "code",
   "execution_count": 8,
   "metadata": {},
   "outputs": [
    {
     "name": "stderr",
     "output_type": "stream",
     "text": [
      "Loading required package: gbm\n",
      "Warning message in library(package, lib.loc = lib.loc, character.only = TRUE, logical.return = TRUE, :\n",
      "\"there is no package called 'gbm'\""
     ]
    },
    {
     "ename": "ERROR",
     "evalue": "Error in gbm(ydata ~ ., distribution = \"adaboost\", data = data, n.trees = 5000, : could not find function \"gbm\"\n",
     "output_type": "error",
     "traceback": [
      "Error in gbm(ydata ~ ., distribution = \"adaboost\", data = data, n.trees = 5000, : could not find function \"gbm\"\nTraceback:\n"
     ]
    }
   ],
   "source": [
    "####################################################\n",
    "#modelling procedure\n",
    "####################################################\n",
    "\n",
    "################\n",
    "#GBM  \n",
    "################\n",
    "require(gbm)\n",
    "\n",
    "model <- gbm(\n",
    "  ydata ~ ., \n",
    "  distribution = \"adaboost\", \n",
    "  data = data, \n",
    "  #var.monotone = NULL,\n",
    "  n.trees = 5000,\n",
    "  interaction.depth = 4,\n",
    "  n.minobsinnode = 30,\n",
    "  shrinkage = 0.05,\n",
    "  bag.fraction = 0.2,\n",
    "  train.fraction = 0.8,\n",
    "  #cv.folds=5,\n",
    "  #keep.data = TRUE,\n",
    "  verbose = TRUE)\n",
    "\n",
    "predict <- predict.gbm (model, test, n.trees = 5000, type = \"response\")\n",
    "\n",
    "################\n",
    "# Random Forest\n",
    "################\n",
    "require(randomForest)\n",
    "data$ydata <- as.factor(data$ydata)\n",
    "\n",
    "model <- randomForest (ydata ~ ., data, ntree = 250, nodesize = 100)\n",
    "predict <- predict (model, test, type = \"prob\")\n",
    "\n",
    "\n",
    "################\n",
    "#caret\n",
    "################\n",
    "#http://cran.r-project.org/web/packages/caret/caret.pdf\n",
    "require(caret)\n",
    "require(MASS)\n",
    "\n",
    "data$ydata <- as.factor(data$ydata)\n",
    "model <- train (ydata ~ ., data, method = \"xxx\")\n",
    "# replace xxx with a function found in caret\n",
    "\n",
    "predict <- predict (model, test)\n",
    "\n",
    "#################\n",
    "# write output\n",
    "#################\n",
    "\n",
    "write.csv(predict, file = \"predict.csv\", quote = FALSE, row.names = FALSE)"
   ]
  }
 ],
 "metadata": {
  "kernelspec": {
   "display_name": "R",
   "language": "R",
   "name": "ir"
  },
  "language_info": {
   "codemirror_mode": "r",
   "file_extension": ".r",
   "mimetype": "text/x-r-source",
   "name": "R",
   "pygments_lexer": "r",
   "version": "3.6.0"
  }
 },
 "nbformat": 4,
 "nbformat_minor": 2
}
